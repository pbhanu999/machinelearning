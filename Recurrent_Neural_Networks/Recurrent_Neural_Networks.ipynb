{
 "cells": [
  {
   "cell_type": "markdown",
   "metadata": {},
   "source": [
    "# Recurrent_Neural_Networks"
   ]
  },
  {
   "cell_type": "markdown",
   "metadata": {},
   "source": [
    "Predicting Google Stock Price"
   ]
  },
  {
   "cell_type": "code",
   "execution_count": 2,
   "metadata": {},
   "outputs": [],
   "source": [
    "import pandas as pd\n",
    "import numpy as np\n",
    "import matplotlib.pyplot as plt"
   ]
  },
  {
   "cell_type": "markdown",
   "metadata": {},
   "source": [
    "Importing the Training set"
   ]
  },
  {
   "cell_type": "code",
   "execution_count": 3,
   "metadata": {},
   "outputs": [],
   "source": [
    "trainingset = pd.read_csv(\"Googlestock Train.csv\")"
   ]
  },
  {
   "cell_type": "code",
   "execution_count": 4,
   "metadata": {},
   "outputs": [
    {
     "data": {
      "text/html": [
       "<div>\n",
       "<style scoped>\n",
       "    .dataframe tbody tr th:only-of-type {\n",
       "        vertical-align: middle;\n",
       "    }\n",
       "\n",
       "    .dataframe tbody tr th {\n",
       "        vertical-align: top;\n",
       "    }\n",
       "\n",
       "    .dataframe thead th {\n",
       "        text-align: right;\n",
       "    }\n",
       "</style>\n",
       "<table border=\"1\" class=\"dataframe\">\n",
       "  <thead>\n",
       "    <tr style=\"text-align: right;\">\n",
       "      <th></th>\n",
       "      <th>Date</th>\n",
       "      <th>Open</th>\n",
       "      <th>High</th>\n",
       "      <th>Low</th>\n",
       "      <th>Close</th>\n",
       "      <th>Volume</th>\n",
       "    </tr>\n",
       "  </thead>\n",
       "  <tbody>\n",
       "    <tr>\n",
       "      <th>0</th>\n",
       "      <td>1/3/2012</td>\n",
       "      <td>325.25</td>\n",
       "      <td>332.83</td>\n",
       "      <td>324.97</td>\n",
       "      <td>663.59</td>\n",
       "      <td>7,380,500</td>\n",
       "    </tr>\n",
       "    <tr>\n",
       "      <th>1</th>\n",
       "      <td>1/4/2012</td>\n",
       "      <td>331.27</td>\n",
       "      <td>333.87</td>\n",
       "      <td>329.08</td>\n",
       "      <td>666.45</td>\n",
       "      <td>5,749,400</td>\n",
       "    </tr>\n",
       "    <tr>\n",
       "      <th>2</th>\n",
       "      <td>1/5/2012</td>\n",
       "      <td>329.83</td>\n",
       "      <td>330.75</td>\n",
       "      <td>326.89</td>\n",
       "      <td>657.21</td>\n",
       "      <td>6,590,300</td>\n",
       "    </tr>\n",
       "    <tr>\n",
       "      <th>3</th>\n",
       "      <td>1/6/2012</td>\n",
       "      <td>328.34</td>\n",
       "      <td>328.77</td>\n",
       "      <td>323.68</td>\n",
       "      <td>648.24</td>\n",
       "      <td>5,405,900</td>\n",
       "    </tr>\n",
       "    <tr>\n",
       "      <th>4</th>\n",
       "      <td>1/9/2012</td>\n",
       "      <td>322.04</td>\n",
       "      <td>322.29</td>\n",
       "      <td>309.46</td>\n",
       "      <td>620.76</td>\n",
       "      <td>11,688,800</td>\n",
       "    </tr>\n",
       "  </tbody>\n",
       "</table>\n",
       "</div>"
      ],
      "text/plain": [
       "       Date    Open    High     Low   Close      Volume\n",
       "0  1/3/2012  325.25  332.83  324.97  663.59   7,380,500\n",
       "1  1/4/2012  331.27  333.87  329.08  666.45   5,749,400\n",
       "2  1/5/2012  329.83  330.75  326.89  657.21   6,590,300\n",
       "3  1/6/2012  328.34  328.77  323.68  648.24   5,405,900\n",
       "4  1/9/2012  322.04  322.29  309.46  620.76  11,688,800"
      ]
     },
     "execution_count": 4,
     "metadata": {},
     "output_type": "execute_result"
    }
   ],
   "source": [
    "trainingset.head()"
   ]
  },
  {
   "cell_type": "code",
   "execution_count": 5,
   "metadata": {},
   "outputs": [],
   "source": [
    "x = trainingset.iloc[:,1:2].values"
   ]
  },
  {
   "cell_type": "code",
   "execution_count": 8,
   "metadata": {},
   "outputs": [
    {
     "name": "stdout",
     "output_type": "stream",
     "text": [
      "open column: [[325.25]\n",
      " [331.27]\n",
      " [329.83]\n",
      " [328.34]\n",
      " [322.04]]\n"
     ]
    }
   ],
   "source": [
    "print(\"print open column:\", x[0 :5])"
   ]
  },
  {
   "cell_type": "markdown",
   "metadata": {},
   "source": [
    "Feature Scaling"
   ]
  },
  {
   "cell_type": "code",
   "execution_count": 10,
   "metadata": {},
   "outputs": [],
   "source": [
    "from sklearn.preprocessing import MinMaxScaler\n",
    "ps = MinMaxScaler(feature_range = (0,1))\n",
    "scaleddata = ps.fit_transform(x)"
   ]
  },
  {
   "cell_type": "code",
   "execution_count": 11,
   "metadata": {},
   "outputs": [
    {
     "name": "stdout",
     "output_type": "stream",
     "text": [
      "print scaledata: [[0.08581368]\n",
      " [0.09701243]\n",
      " [0.09433366]\n",
      " [0.09156187]\n",
      " [0.07984225]]\n"
     ]
    }
   ],
   "source": [
    "print(\"print scaledata:\", scaleddata[0 :5])"
   ]
  },
  {
   "cell_type": "markdown",
   "metadata": {},
   "source": [
    "Creating Datastructure with 80 timesteps and 1 output"
   ]
  },
  {
   "cell_type": "code",
   "execution_count": 12,
   "metadata": {},
   "outputs": [],
   "source": [
    "X_train = []\n",
    "Y_train = []\n",
    "for i in range(80,1258):\n",
    "    X_train.append(scaleddata[i-80:i,0])\n",
    "    Y_train.append(scaleddata[i,0])\n",
    "X_train,Y_train = np.array(X_train),np.array(Y_train)   "
   ]
  },
  {
   "cell_type": "code",
   "execution_count": 15,
   "metadata": {},
   "outputs": [
    {
     "name": "stdout",
     "output_type": "stream",
     "text": [
      "X_train: [[0.08581368 0.09701243 0.09433366 0.09156187 0.07984225 0.0643277\n",
      "  0.0585423  0.06568569 0.06109085 0.06639259 0.0614257  0.07474514\n",
      "  0.02797827 0.02379269 0.02409033 0.0159238  0.01078949 0.00967334\n",
      "  0.01642607 0.02100231 0.02280676 0.02273235 0.02810849 0.03212665\n",
      "  0.0433812  0.04475779 0.04790163 0.0440695  0.04648783 0.04745517\n",
      "  0.04873875 0.03936305 0.04137213 0.04034898 0.04784582 0.04325099\n",
      "  0.04356723 0.04286033 0.04602277 0.05398467 0.05738894 0.05714711\n",
      "  0.05569611 0.04421832 0.04514845 0.04605997 0.04412531 0.03675869\n",
      "  0.04486941 0.05065481 0.05214302 0.05612397 0.05818885 0.06540665\n",
      "  0.06882953 0.07243843 0.07993526 0.07846566 0.08034452 0.08497656\n",
      "  0.08627874 0.08471612 0.07454052 0.07883771 0.07238262 0.06663442\n",
      "  0.06315574 0.06782499 0.06823424 0.07601012 0.08082819 0.05807724\n",
      "  0.04468338 0.04421832 0.04202322 0.04070243 0.03017338 0.03512166\n",
      "  0.0404606  0.04685989]\n",
      " [0.09701243 0.09433366 0.09156187 0.07984225 0.0643277  0.0585423\n",
      "  0.06568569 0.06109085 0.06639259 0.0614257  0.07474514 0.02797827\n",
      "  0.02379269 0.02409033 0.0159238  0.01078949 0.00967334 0.01642607\n",
      "  0.02100231 0.02280676 0.02273235 0.02810849 0.03212665 0.0433812\n",
      "  0.04475779 0.04790163 0.0440695  0.04648783 0.04745517 0.04873875\n",
      "  0.03936305 0.04137213 0.04034898 0.04784582 0.04325099 0.04356723\n",
      "  0.04286033 0.04602277 0.05398467 0.05738894 0.05714711 0.05569611\n",
      "  0.04421832 0.04514845 0.04605997 0.04412531 0.03675869 0.04486941\n",
      "  0.05065481 0.05214302 0.05612397 0.05818885 0.06540665 0.06882953\n",
      "  0.07243843 0.07993526 0.07846566 0.08034452 0.08497656 0.08627874\n",
      "  0.08471612 0.07454052 0.07883771 0.07238262 0.06663442 0.06315574\n",
      "  0.06782499 0.06823424 0.07601012 0.08082819 0.05807724 0.04468338\n",
      "  0.04421832 0.04202322 0.04070243 0.03017338 0.03512166 0.0404606\n",
      "  0.04685989 0.05067341]]\n"
     ]
    }
   ],
   "source": [
    "print(\"X_train:\", X_train[0 :2])"
   ]
  },
  {
   "cell_type": "code",
   "execution_count": 17,
   "metadata": {},
   "outputs": [
    {
     "name": "stdout",
     "output_type": "stream",
     "text": [
      "Y_train: [0.05067341 0.04879455 0.04027457 0.03787484 0.04566932]\n"
     ]
    }
   ],
   "source": [
    "print(\"Y_train:\", Y_train[0 :5])"
   ]
  },
  {
   "cell_type": "markdown",
   "metadata": {},
   "source": [
    "Reshaping"
   ]
  },
  {
   "cell_type": "code",
   "execution_count": 18,
   "metadata": {},
   "outputs": [],
   "source": [
    "X_train = np.reshape(X_train,(X_train.shape[0],X_train.shape[1],1))"
   ]
  },
  {
   "cell_type": "code",
   "execution_count": 21,
   "metadata": {},
   "outputs": [
    {
     "name": "stdout",
     "output_type": "stream",
     "text": [
      "X_train: [[[0.08581368]\n",
      "  [0.09701243]\n",
      "  [0.09433366]\n",
      "  [0.09156187]\n",
      "  [0.07984225]\n",
      "  [0.0643277 ]\n",
      "  [0.0585423 ]\n",
      "  [0.06568569]\n",
      "  [0.06109085]\n",
      "  [0.06639259]\n",
      "  [0.0614257 ]\n",
      "  [0.07474514]\n",
      "  [0.02797827]\n",
      "  [0.02379269]\n",
      "  [0.02409033]\n",
      "  [0.0159238 ]\n",
      "  [0.01078949]\n",
      "  [0.00967334]\n",
      "  [0.01642607]\n",
      "  [0.02100231]\n",
      "  [0.02280676]\n",
      "  [0.02273235]\n",
      "  [0.02810849]\n",
      "  [0.03212665]\n",
      "  [0.0433812 ]\n",
      "  [0.04475779]\n",
      "  [0.04790163]\n",
      "  [0.0440695 ]\n",
      "  [0.04648783]\n",
      "  [0.04745517]\n",
      "  [0.04873875]\n",
      "  [0.03936305]\n",
      "  [0.04137213]\n",
      "  [0.04034898]\n",
      "  [0.04784582]\n",
      "  [0.04325099]\n",
      "  [0.04356723]\n",
      "  [0.04286033]\n",
      "  [0.04602277]\n",
      "  [0.05398467]\n",
      "  [0.05738894]\n",
      "  [0.05714711]\n",
      "  [0.05569611]\n",
      "  [0.04421832]\n",
      "  [0.04514845]\n",
      "  [0.04605997]\n",
      "  [0.04412531]\n",
      "  [0.03675869]\n",
      "  [0.04486941]\n",
      "  [0.05065481]\n",
      "  [0.05214302]\n",
      "  [0.05612397]\n",
      "  [0.05818885]\n",
      "  [0.06540665]\n",
      "  [0.06882953]\n",
      "  [0.07243843]\n",
      "  [0.07993526]\n",
      "  [0.07846566]\n",
      "  [0.08034452]\n",
      "  [0.08497656]\n",
      "  [0.08627874]\n",
      "  [0.08471612]\n",
      "  [0.07454052]\n",
      "  [0.07883771]\n",
      "  [0.07238262]\n",
      "  [0.06663442]\n",
      "  [0.06315574]\n",
      "  [0.06782499]\n",
      "  [0.06823424]\n",
      "  [0.07601012]\n",
      "  [0.08082819]\n",
      "  [0.05807724]\n",
      "  [0.04468338]\n",
      "  [0.04421832]\n",
      "  [0.04202322]\n",
      "  [0.04070243]\n",
      "  [0.03017338]\n",
      "  [0.03512166]\n",
      "  [0.0404606 ]\n",
      "  [0.04685989]]\n",
      "\n",
      " [[0.09701243]\n",
      "  [0.09433366]\n",
      "  [0.09156187]\n",
      "  [0.07984225]\n",
      "  [0.0643277 ]\n",
      "  [0.0585423 ]\n",
      "  [0.06568569]\n",
      "  [0.06109085]\n",
      "  [0.06639259]\n",
      "  [0.0614257 ]\n",
      "  [0.07474514]\n",
      "  [0.02797827]\n",
      "  [0.02379269]\n",
      "  [0.02409033]\n",
      "  [0.0159238 ]\n",
      "  [0.01078949]\n",
      "  [0.00967334]\n",
      "  [0.01642607]\n",
      "  [0.02100231]\n",
      "  [0.02280676]\n",
      "  [0.02273235]\n",
      "  [0.02810849]\n",
      "  [0.03212665]\n",
      "  [0.0433812 ]\n",
      "  [0.04475779]\n",
      "  [0.04790163]\n",
      "  [0.0440695 ]\n",
      "  [0.04648783]\n",
      "  [0.04745517]\n",
      "  [0.04873875]\n",
      "  [0.03936305]\n",
      "  [0.04137213]\n",
      "  [0.04034898]\n",
      "  [0.04784582]\n",
      "  [0.04325099]\n",
      "  [0.04356723]\n",
      "  [0.04286033]\n",
      "  [0.04602277]\n",
      "  [0.05398467]\n",
      "  [0.05738894]\n",
      "  [0.05714711]\n",
      "  [0.05569611]\n",
      "  [0.04421832]\n",
      "  [0.04514845]\n",
      "  [0.04605997]\n",
      "  [0.04412531]\n",
      "  [0.03675869]\n",
      "  [0.04486941]\n",
      "  [0.05065481]\n",
      "  [0.05214302]\n",
      "  [0.05612397]\n",
      "  [0.05818885]\n",
      "  [0.06540665]\n",
      "  [0.06882953]\n",
      "  [0.07243843]\n",
      "  [0.07993526]\n",
      "  [0.07846566]\n",
      "  [0.08034452]\n",
      "  [0.08497656]\n",
      "  [0.08627874]\n",
      "  [0.08471612]\n",
      "  [0.07454052]\n",
      "  [0.07883771]\n",
      "  [0.07238262]\n",
      "  [0.06663442]\n",
      "  [0.06315574]\n",
      "  [0.06782499]\n",
      "  [0.06823424]\n",
      "  [0.07601012]\n",
      "  [0.08082819]\n",
      "  [0.05807724]\n",
      "  [0.04468338]\n",
      "  [0.04421832]\n",
      "  [0.04202322]\n",
      "  [0.04070243]\n",
      "  [0.03017338]\n",
      "  [0.03512166]\n",
      "  [0.0404606 ]\n",
      "  [0.04685989]\n",
      "  [0.05067341]]]\n"
     ]
    }
   ],
   "source": [
    "print(\"X_train:\", X_train[0 :2])"
   ]
  },
  {
   "cell_type": "markdown",
   "metadata": {},
   "source": [
    "## Building Recurrent_Neural_Networks"
   ]
  },
  {
   "cell_type": "code",
   "execution_count": 24,
   "metadata": {},
   "outputs": [],
   "source": [
    "from keras.models import Sequential\n",
    "from keras.layers import Dense\n",
    "from keras.layers import LSTM\n",
    "from keras.layers import Dropout"
   ]
  },
  {
   "cell_type": "markdown",
   "metadata": {},
   "source": [
    "Initialising RNN"
   ]
  },
  {
   "cell_type": "code",
   "execution_count": 26,
   "metadata": {},
   "outputs": [],
   "source": [
    "model = Sequential()"
   ]
  },
  {
   "cell_type": "markdown",
   "metadata": {},
   "source": [
    "Adding LSTM Layer"
   ]
  },
  {
   "cell_type": "code",
   "execution_count": 33,
   "metadata": {},
   "outputs": [],
   "source": [
    "model.add(LSTM(units = 50, return_sequences = True , input_shape= (X_train.shape[1],1))) \n",
    "model.add(Dropout(0.2))"
   ]
  },
  {
   "cell_type": "code",
   "execution_count": 34,
   "metadata": {},
   "outputs": [],
   "source": [
    "model.add(LSTM(units = 50, return_sequences = True )) \n",
    "model.add(Dropout(0.2))"
   ]
  },
  {
   "cell_type": "code",
   "execution_count": 35,
   "metadata": {},
   "outputs": [],
   "source": [
    "model.add(LSTM(units = 50, return_sequences = True )) \n",
    "model.add(Dropout(0.2))"
   ]
  },
  {
   "cell_type": "code",
   "execution_count": 36,
   "metadata": {},
   "outputs": [],
   "source": [
    "model.add(LSTM(units = 50 )) \n",
    "model.add(Dropout(0.2))"
   ]
  },
  {
   "cell_type": "markdown",
   "metadata": {},
   "source": [
    "Adding the Output Layer"
   ]
  },
  {
   "cell_type": "code",
   "execution_count": 37,
   "metadata": {},
   "outputs": [],
   "source": [
    "model.add(Dense(units = 1))"
   ]
  },
  {
   "cell_type": "markdown",
   "metadata": {},
   "source": [
    "Compiling the RNN"
   ]
  },
  {
   "cell_type": "code",
   "execution_count": 38,
   "metadata": {},
   "outputs": [],
   "source": [
    "model.compile(optimizer = 'adam', loss = 'mean_squared_error')"
   ]
  },
  {
   "cell_type": "markdown",
   "metadata": {},
   "source": [
    "Fitting the Model"
   ]
  },
  {
   "cell_type": "code",
   "execution_count": 39,
   "metadata": {},
   "outputs": [
    {
     "name": "stdout",
     "output_type": "stream",
     "text": [
      "Epoch 1/100\n",
      "1178/1178 [==============================] - 25s 21ms/step - loss: 0.0492\n",
      "Epoch 2/100\n",
      "1178/1178 [==============================] - 18s 15ms/step - loss: 0.0067\n",
      "Epoch 3/100\n",
      "1178/1178 [==============================] - 18s 16ms/step - loss: 0.0063\n",
      "Epoch 4/100\n",
      "1178/1178 [==============================] - 18s 16ms/step - loss: 0.0062\n",
      "Epoch 5/100\n",
      "1178/1178 [==============================] - 18s 15ms/step - loss: 0.0052\n",
      "Epoch 6/100\n",
      "1178/1178 [==============================] - 18s 15ms/step - loss: 0.0050\n",
      "Epoch 7/100\n",
      "1178/1178 [==============================] - 18s 15ms/step - loss: 0.0054\n",
      "Epoch 8/100\n",
      "1178/1178 [==============================] - 18s 15ms/step - loss: 0.0053\n",
      "Epoch 9/100\n",
      "1178/1178 [==============================] - 18s 15ms/step - loss: 0.0054\n",
      "Epoch 10/100\n",
      "1178/1178 [==============================] - 19s 16ms/step - loss: 0.0050\n",
      "Epoch 11/100\n",
      "1178/1178 [==============================] - 18s 15ms/step - loss: 0.0043\n",
      "Epoch 12/100\n",
      "1178/1178 [==============================] - 18s 15ms/step - loss: 0.0042\n",
      "Epoch 13/100\n",
      "1178/1178 [==============================] - 18s 15ms/step - loss: 0.0048\n",
      "Epoch 14/100\n",
      "1178/1178 [==============================] - 18s 15ms/step - loss: 0.0044\n",
      "Epoch 15/100\n",
      "1178/1178 [==============================] - 18s 16ms/step - loss: 0.0043\n",
      "Epoch 16/100\n",
      "1178/1178 [==============================] - 19s 16ms/step - loss: 0.0041\n",
      "Epoch 17/100\n",
      "1178/1178 [==============================] - 25s 21ms/step - loss: 0.0042\n",
      "Epoch 18/100\n",
      "1178/1178 [==============================] - 21s 18ms/step - loss: 0.0043\n",
      "Epoch 19/100\n",
      "1178/1178 [==============================] - 19s 16ms/step - loss: 0.0040\n",
      "Epoch 20/100\n",
      "1178/1178 [==============================] - 19s 16ms/step - loss: 0.0039\n",
      "Epoch 21/100\n",
      "1178/1178 [==============================] - 18s 16ms/step - loss: 0.0035\n",
      "Epoch 22/100\n",
      "1178/1178 [==============================] - 18s 16ms/step - loss: 0.0036\n",
      "Epoch 23/100\n",
      "1178/1178 [==============================] - 18s 15ms/step - loss: 0.0038\n",
      "Epoch 24/100\n",
      "1178/1178 [==============================] - 19s 16ms/step - loss: 0.0040\n",
      "Epoch 25/100\n",
      "1178/1178 [==============================] - 19s 16ms/step - loss: 0.0034\n",
      "Epoch 26/100\n",
      "1178/1178 [==============================] - 19s 16ms/step - loss: 0.0037\n",
      "Epoch 27/100\n",
      "1178/1178 [==============================] - 20s 17ms/step - loss: 0.0035\n",
      "Epoch 28/100\n",
      "1178/1178 [==============================] - 27s 23ms/step - loss: 0.0034\n",
      "Epoch 29/100\n",
      "1178/1178 [==============================] - 19s 17ms/step - loss: 0.0034\n",
      "Epoch 30/100\n",
      "1178/1178 [==============================] - 26s 22ms/step - loss: 0.0033\n",
      "Epoch 31/100\n",
      "1178/1178 [==============================] - 21s 17ms/step - loss: 0.0032\n",
      "Epoch 32/100\n",
      "1178/1178 [==============================] - 18s 16ms/step - loss: 0.0034\n",
      "Epoch 33/100\n",
      "1178/1178 [==============================] - 18s 15ms/step - loss: 0.0035\n",
      "Epoch 34/100\n",
      "1178/1178 [==============================] - 18s 15ms/step - loss: 0.0030\n",
      "Epoch 35/100\n",
      "1178/1178 [==============================] - 18s 15ms/step - loss: 0.0032\n",
      "Epoch 36/100\n",
      "1178/1178 [==============================] - 29s 24ms/step - loss: 0.0029\n",
      "Epoch 37/100\n",
      "1178/1178 [==============================] - 21s 18ms/step - loss: 0.0036\n",
      "Epoch 38/100\n",
      "1178/1178 [==============================] - 22s 18ms/step - loss: 0.0030\n",
      "Epoch 39/100\n",
      "1178/1178 [==============================] - 21s 18ms/step - loss: 0.0032\n",
      "Epoch 40/100\n",
      "1178/1178 [==============================] - 28s 24ms/step - loss: 0.0032\n",
      "Epoch 41/100\n",
      "1178/1178 [==============================] - 23s 19ms/step - loss: 0.0030\n",
      "Epoch 42/100\n",
      "1178/1178 [==============================] - 22s 19ms/step - loss: 0.0027\n",
      "Epoch 43/100\n",
      "1178/1178 [==============================] - 21s 18ms/step - loss: 0.0027\n",
      "Epoch 44/100\n",
      "1178/1178 [==============================] - 22s 18ms/step - loss: 0.0028\n",
      "Epoch 45/100\n",
      "1178/1178 [==============================] - 19s 16ms/step - loss: 0.0029\n",
      "Epoch 46/100\n",
      "1178/1178 [==============================] - 22s 19ms/step - loss: 0.0029\n",
      "Epoch 47/100\n",
      "1178/1178 [==============================] - 20s 17ms/step - loss: 0.0026\n",
      "Epoch 48/100\n",
      "1178/1178 [==============================] - 22s 19ms/step - loss: 0.0025\n",
      "Epoch 49/100\n",
      "1178/1178 [==============================] - 21s 17ms/step - loss: 0.0024\n",
      "Epoch 50/100\n",
      "1178/1178 [==============================] - 19s 16ms/step - loss: 0.0027\n",
      "Epoch 51/100\n",
      "1178/1178 [==============================] - 21s 18ms/step - loss: 0.0026\n",
      "Epoch 52/100\n",
      "1178/1178 [==============================] - 21s 18ms/step - loss: 0.0028\n",
      "Epoch 53/100\n",
      "1178/1178 [==============================] - 20s 17ms/step - loss: 0.0025\n",
      "Epoch 54/100\n",
      "1178/1178 [==============================] - 23s 19ms/step - loss: 0.0025\n",
      "Epoch 55/100\n",
      "1178/1178 [==============================] - 20s 17ms/step - loss: 0.0023\n",
      "Epoch 56/100\n",
      "1178/1178 [==============================] - 18s 16ms/step - loss: 0.0025\n",
      "Epoch 57/100\n",
      "1178/1178 [==============================] - 18s 15ms/step - loss: 0.0024\n",
      "Epoch 58/100\n",
      "1178/1178 [==============================] - 22s 19ms/step - loss: 0.0025\n",
      "Epoch 59/100\n",
      "1178/1178 [==============================] - 20s 17ms/step - loss: 0.0025\n",
      "Epoch 60/100\n",
      "1178/1178 [==============================] - 20s 17ms/step - loss: 0.0023\n",
      "Epoch 61/100\n",
      "1178/1178 [==============================] - 19s 16ms/step - loss: 0.0025\n",
      "Epoch 62/100\n",
      "1178/1178 [==============================] - 19s 16ms/step - loss: 0.0024\n",
      "Epoch 63/100\n",
      "1178/1178 [==============================] - 23s 19ms/step - loss: 0.0021\n",
      "Epoch 64/100\n",
      "1178/1178 [==============================] - 23s 19ms/step - loss: 0.0023\n",
      "Epoch 65/100\n",
      "1178/1178 [==============================] - 22s 19ms/step - loss: 0.0020\n",
      "Epoch 66/100\n",
      "1178/1178 [==============================] - 21s 17ms/step - loss: 0.0020\n",
      "Epoch 67/100\n",
      "1178/1178 [==============================] - 23s 19ms/step - loss: 0.0025\n",
      "Epoch 68/100\n",
      "1178/1178 [==============================] - 25s 21ms/step - loss: 0.0022\n",
      "Epoch 69/100\n",
      "1178/1178 [==============================] - 20s 17ms/step - loss: 0.0021\n",
      "Epoch 70/100\n",
      "1178/1178 [==============================] - 18s 15ms/step - loss: 0.0021\n",
      "Epoch 71/100\n",
      "1178/1178 [==============================] - 19s 16ms/step - loss: 0.0022\n",
      "Epoch 72/100\n",
      "1178/1178 [==============================] - 20s 17ms/step - loss: 0.0018\n",
      "Epoch 73/100\n",
      "1178/1178 [==============================] - 18s 15ms/step - loss: 0.0020\n",
      "Epoch 74/100\n",
      "1178/1178 [==============================] - 18s 15ms/step - loss: 0.0018\n",
      "Epoch 75/100\n",
      "1178/1178 [==============================] - 18s 15ms/step - loss: 0.0022\n",
      "Epoch 76/100\n",
      "1178/1178 [==============================] - 18s 15ms/step - loss: 0.0020\n",
      "Epoch 77/100\n",
      "1178/1178 [==============================] - 19s 16ms/step - loss: 0.0019\n",
      "Epoch 78/100\n",
      "1178/1178 [==============================] - 18s 15ms/step - loss: 0.0020\n",
      "Epoch 79/100\n",
      "1178/1178 [==============================] - 19s 16ms/step - loss: 0.0021\n",
      "Epoch 80/100\n",
      "1178/1178 [==============================] - 21s 18ms/step - loss: 0.0017\n",
      "Epoch 81/100\n",
      "1178/1178 [==============================] - 21s 18ms/step - loss: 0.0019\n",
      "Epoch 82/100\n",
      "1178/1178 [==============================] - 21s 18ms/step - loss: 0.0018\n",
      "Epoch 83/100\n",
      "1178/1178 [==============================] - 26s 22ms/step - loss: 0.0017\n",
      "Epoch 84/100\n",
      "1178/1178 [==============================] - 20s 17ms/step - loss: 0.0018\n",
      "Epoch 85/100\n",
      "1178/1178 [==============================] - 20s 17ms/step - loss: 0.0017\n",
      "Epoch 86/100\n",
      "1178/1178 [==============================] - 19s 16ms/step - loss: 0.0017\n",
      "Epoch 87/100\n",
      "1178/1178 [==============================] - 19s 16ms/step - loss: 0.0017\n",
      "Epoch 88/100\n",
      "1178/1178 [==============================] - 18s 16ms/step - loss: 0.0017\n",
      "Epoch 89/100\n",
      "1178/1178 [==============================] - 19s 16ms/step - loss: 0.0017\n",
      "Epoch 90/100\n",
      "1178/1178 [==============================] - 19s 16ms/step - loss: 0.0018\n",
      "Epoch 91/100\n",
      "1178/1178 [==============================] - 18s 15ms/step - loss: 0.0015\n",
      "Epoch 92/100\n",
      "1178/1178 [==============================] - 20s 17ms/step - loss: 0.0017\n",
      "Epoch 93/100\n",
      "1178/1178 [==============================] - 19s 16ms/step - loss: 0.0018\n",
      "Epoch 94/100\n",
      "1178/1178 [==============================] - 18s 15ms/step - loss: 0.0016\n",
      "Epoch 95/100\n"
     ]
    },
    {
     "name": "stdout",
     "output_type": "stream",
     "text": [
      "1178/1178 [==============================] - 18s 15ms/step - loss: 0.0015\n",
      "Epoch 96/100\n",
      "1178/1178 [==============================] - 18s 15ms/step - loss: 0.0015\n",
      "Epoch 97/100\n",
      "1178/1178 [==============================] - 18s 15ms/step - loss: 0.0015\n",
      "Epoch 98/100\n",
      "1178/1178 [==============================] - 18s 15ms/step - loss: 0.0015\n",
      "Epoch 99/100\n",
      "1178/1178 [==============================] - 18s 15ms/step - loss: 0.0016\n",
      "Epoch 100/100\n",
      "1178/1178 [==============================] - 18s 15ms/step - loss: 0.0015\n"
     ]
    },
    {
     "data": {
      "text/plain": [
       "<keras.callbacks.History at 0x20c4c9be358>"
      ]
     },
     "execution_count": 39,
     "metadata": {},
     "output_type": "execute_result"
    }
   ],
   "source": [
    "model.fit(X_train , Y_train , epochs = 100, batch_size = 32)"
   ]
  },
  {
   "cell_type": "markdown",
   "metadata": {},
   "source": [
    "loading test data"
   ]
  },
  {
   "cell_type": "code",
   "execution_count": 40,
   "metadata": {},
   "outputs": [],
   "source": [
    "testset = pd.read_csv(\"googlestock test.csv\")"
   ]
  },
  {
   "cell_type": "code",
   "execution_count": 41,
   "metadata": {},
   "outputs": [
    {
     "data": {
      "text/html": [
       "<div>\n",
       "<style scoped>\n",
       "    .dataframe tbody tr th:only-of-type {\n",
       "        vertical-align: middle;\n",
       "    }\n",
       "\n",
       "    .dataframe tbody tr th {\n",
       "        vertical-align: top;\n",
       "    }\n",
       "\n",
       "    .dataframe thead th {\n",
       "        text-align: right;\n",
       "    }\n",
       "</style>\n",
       "<table border=\"1\" class=\"dataframe\">\n",
       "  <thead>\n",
       "    <tr style=\"text-align: right;\">\n",
       "      <th></th>\n",
       "      <th>Date</th>\n",
       "      <th>Open</th>\n",
       "      <th>High</th>\n",
       "      <th>Low</th>\n",
       "      <th>Close</th>\n",
       "      <th>Volume</th>\n",
       "    </tr>\n",
       "  </thead>\n",
       "  <tbody>\n",
       "    <tr>\n",
       "      <th>0</th>\n",
       "      <td>1/3/2017</td>\n",
       "      <td>778.81</td>\n",
       "      <td>789.63</td>\n",
       "      <td>775.80</td>\n",
       "      <td>786.14</td>\n",
       "      <td>1,657,300</td>\n",
       "    </tr>\n",
       "    <tr>\n",
       "      <th>1</th>\n",
       "      <td>1/4/2017</td>\n",
       "      <td>788.36</td>\n",
       "      <td>791.34</td>\n",
       "      <td>783.16</td>\n",
       "      <td>786.90</td>\n",
       "      <td>1,073,000</td>\n",
       "    </tr>\n",
       "    <tr>\n",
       "      <th>2</th>\n",
       "      <td>1/5/2017</td>\n",
       "      <td>786.08</td>\n",
       "      <td>794.48</td>\n",
       "      <td>785.02</td>\n",
       "      <td>794.02</td>\n",
       "      <td>1,335,200</td>\n",
       "    </tr>\n",
       "    <tr>\n",
       "      <th>3</th>\n",
       "      <td>1/6/2017</td>\n",
       "      <td>795.26</td>\n",
       "      <td>807.90</td>\n",
       "      <td>792.20</td>\n",
       "      <td>806.15</td>\n",
       "      <td>1,640,200</td>\n",
       "    </tr>\n",
       "    <tr>\n",
       "      <th>4</th>\n",
       "      <td>1/9/2017</td>\n",
       "      <td>806.40</td>\n",
       "      <td>809.97</td>\n",
       "      <td>802.83</td>\n",
       "      <td>806.65</td>\n",
       "      <td>1,272,400</td>\n",
       "    </tr>\n",
       "  </tbody>\n",
       "</table>\n",
       "</div>"
      ],
      "text/plain": [
       "       Date    Open    High     Low   Close     Volume\n",
       "0  1/3/2017  778.81  789.63  775.80  786.14  1,657,300\n",
       "1  1/4/2017  788.36  791.34  783.16  786.90  1,073,000\n",
       "2  1/5/2017  786.08  794.48  785.02  794.02  1,335,200\n",
       "3  1/6/2017  795.26  807.90  792.20  806.15  1,640,200\n",
       "4  1/9/2017  806.40  809.97  802.83  806.65  1,272,400"
      ]
     },
     "execution_count": 41,
     "metadata": {},
     "output_type": "execute_result"
    }
   ],
   "source": [
    "testset.head()"
   ]
  },
  {
   "cell_type": "code",
   "execution_count": 44,
   "metadata": {},
   "outputs": [],
   "source": [
    "realprice = testset.iloc[:,1:2].values"
   ]
  },
  {
   "cell_type": "code",
   "execution_count": 43,
   "metadata": {},
   "outputs": [
    {
     "data": {
      "text/html": [
       "<div>\n",
       "<style scoped>\n",
       "    .dataframe tbody tr th:only-of-type {\n",
       "        vertical-align: middle;\n",
       "    }\n",
       "\n",
       "    .dataframe tbody tr th {\n",
       "        vertical-align: top;\n",
       "    }\n",
       "\n",
       "    .dataframe thead th {\n",
       "        text-align: right;\n",
       "    }\n",
       "</style>\n",
       "<table border=\"1\" class=\"dataframe\">\n",
       "  <thead>\n",
       "    <tr style=\"text-align: right;\">\n",
       "      <th></th>\n",
       "      <th>Open</th>\n",
       "    </tr>\n",
       "  </thead>\n",
       "  <tbody>\n",
       "    <tr>\n",
       "      <th>0</th>\n",
       "      <td>778.81</td>\n",
       "    </tr>\n",
       "    <tr>\n",
       "      <th>1</th>\n",
       "      <td>788.36</td>\n",
       "    </tr>\n",
       "    <tr>\n",
       "      <th>2</th>\n",
       "      <td>786.08</td>\n",
       "    </tr>\n",
       "    <tr>\n",
       "      <th>3</th>\n",
       "      <td>795.26</td>\n",
       "    </tr>\n",
       "    <tr>\n",
       "      <th>4</th>\n",
       "      <td>806.40</td>\n",
       "    </tr>\n",
       "  </tbody>\n",
       "</table>\n",
       "</div>"
      ],
      "text/plain": [
       "     Open\n",
       "0  778.81\n",
       "1  788.36\n",
       "2  786.08\n",
       "3  795.26\n",
       "4  806.40"
      ]
     },
     "execution_count": 43,
     "metadata": {},
     "output_type": "execute_result"
    }
   ],
   "source": [
    "realprice.head()"
   ]
  },
  {
   "cell_type": "markdown",
   "metadata": {},
   "source": [
    "Predicting"
   ]
  },
  {
   "cell_type": "code",
   "execution_count": 50,
   "metadata": {},
   "outputs": [],
   "source": [
    "final = pd.concat((trainingset['Open'],testset['Open']),axis=0)\n",
    "y = final[len(final)-len(testset)-80:].values\n",
    "y = y.reshape(-1,1)\n",
    "y = ps.transform(y)\n"
   ]
  },
  {
   "cell_type": "code",
   "execution_count": 57,
   "metadata": {},
   "outputs": [],
   "source": [
    "X_test = []\n",
    "for i in range(80,100):\n",
    "    X_test.append(y[i-80:i,0])"
   ]
  },
  {
   "cell_type": "code",
   "execution_count": 58,
   "metadata": {},
   "outputs": [],
   "source": [
    "X_test = np.array(X_test)\n",
    "X_test = np.reshape(X_test,(X_test.shape[0],X_test.shape[1],1))\n",
    "predictions = model.predict(X_test)\n",
    "predictions = ps.inverse_transform(predictions)"
   ]
  },
  {
   "cell_type": "markdown",
   "metadata": {},
   "source": [
    "#### Visualising"
   ]
  },
  {
   "cell_type": "code",
   "execution_count": 54,
   "metadata": {},
   "outputs": [
    {
     "data": {
      "text/plain": [
       "<matplotlib.legend.Legend at 0x20c500c56d8>"
      ]
     },
     "execution_count": 54,
     "metadata": {},
     "output_type": "execute_result"
    },
    {
     "data": {
      "image/png": "[encoded data removed]",
      "text/plain": [
       "<Figure size 432x288 with 1 Axes>"
      ]
     },
     "metadata": {},
     "output_type": "display_data"
    }
   ],
   "source": [
    "plt.plot(realprice, color ='orange' , label = 'Actual Stock Price' )\n",
    "plt.plot(predictions, color ='blue' , label = 'Predicted Stock Price' )\n",
    "plt.title('google stock predictions')\n",
    "plt.xlabel('time')\n",
    "plt.ylabel('stock price')\n",
    "plt.legend()\n"
   ]
  },
  {
   "cell_type": "code",
   "execution_count": null,
   "metadata": {},
   "outputs": [],
   "source": []
  }
 ],
 "metadata": {
  "kernelspec": {
   "display_name": "Python 3",
   "language": "python",
   "name": "python3"
  },
  "language_info": {
   "codemirror_mode": {
    "name": "ipython",
    "version": 3
   },
   "file_extension": ".py",
   "mimetype": "text/x-python",
   "name": "python",
   "nbconvert_exporter": "python",
   "pygments_lexer": "ipython3",
   "version": "3.6.5"
  }
 },
 "nbformat": 4,
 "nbformat_minor": 2
}
