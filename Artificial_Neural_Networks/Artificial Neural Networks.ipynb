{
 "cells": [
  {
   "cell_type": "markdown",
   "metadata": {},
   "source": [
    "## Artificial Neural Networks\n",
    "\n",
    "Churn Analysis"
   ]
  },
  {
   "cell_type": "code",
   "execution_count": 1,
   "metadata": {},
   "outputs": [],
   "source": [
    "import pandas as pd\n",
    "import numpy as np\n",
    "import matplotlib.pyplot as plt\n"
   ]
  },
  {
   "cell_type": "markdown",
   "metadata": {},
   "source": [
    " Importing the dataset"
   ]
  },
  {
   "cell_type": "code",
   "execution_count": 2,
   "metadata": {},
   "outputs": [],
   "source": [
    "data = pd.read_csv(\"churn.csv\")"
   ]
  },
  {
   "cell_type": "code",
   "execution_count": 3,
   "metadata": {},
   "outputs": [
    {
     "data": {
      "text/html": [
       "<div>\n",
       "<style scoped>\n",
       "    .dataframe tbody tr th:only-of-type {\n",
       "        vertical-align: middle;\n",
       "    }\n",
       "\n",
       "    .dataframe tbody tr th {\n",
       "        vertical-align: top;\n",
       "    }\n",
       "\n",
       "    .dataframe thead th {\n",
       "        text-align: right;\n",
       "    }\n",
       "</style>\n",
       "<table border=\"1\" class=\"dataframe\">\n",
       "  <thead>\n",
       "    <tr style=\"text-align: right;\">\n",
       "      <th></th>\n",
       "      <th>RowNumber</th>\n",
       "      <th>CustomerId</th>\n",
       "      <th>Surname</th>\n",
       "      <th>CreditScore</th>\n",
       "      <th>Geography</th>\n",
       "      <th>Gender</th>\n",
       "      <th>Age</th>\n",
       "      <th>Tenure</th>\n",
       "      <th>Balance</th>\n",
       "      <th>NumOfProducts</th>\n",
       "      <th>HasCrCard</th>\n",
       "      <th>IsActiveMember</th>\n",
       "      <th>EstimatedSalary</th>\n",
       "      <th>Exited</th>\n",
       "    </tr>\n",
       "  </thead>\n",
       "  <tbody>\n",
       "    <tr>\n",
       "      <th>0</th>\n",
       "      <td>1</td>\n",
       "      <td>15634602</td>\n",
       "      <td>Hargrave</td>\n",
       "      <td>619</td>\n",
       "      <td>France</td>\n",
       "      <td>Female</td>\n",
       "      <td>42</td>\n",
       "      <td>2</td>\n",
       "      <td>0.00</td>\n",
       "      <td>1</td>\n",
       "      <td>1</td>\n",
       "      <td>1</td>\n",
       "      <td>101348.88</td>\n",
       "      <td>1</td>\n",
       "    </tr>\n",
       "    <tr>\n",
       "      <th>1</th>\n",
       "      <td>2</td>\n",
       "      <td>15647311</td>\n",
       "      <td>Hill</td>\n",
       "      <td>608</td>\n",
       "      <td>Spain</td>\n",
       "      <td>Female</td>\n",
       "      <td>41</td>\n",
       "      <td>1</td>\n",
       "      <td>83807.86</td>\n",
       "      <td>1</td>\n",
       "      <td>0</td>\n",
       "      <td>1</td>\n",
       "      <td>112542.58</td>\n",
       "      <td>0</td>\n",
       "    </tr>\n",
       "    <tr>\n",
       "      <th>2</th>\n",
       "      <td>3</td>\n",
       "      <td>15619304</td>\n",
       "      <td>Onio</td>\n",
       "      <td>502</td>\n",
       "      <td>France</td>\n",
       "      <td>Female</td>\n",
       "      <td>42</td>\n",
       "      <td>8</td>\n",
       "      <td>159660.80</td>\n",
       "      <td>3</td>\n",
       "      <td>1</td>\n",
       "      <td>0</td>\n",
       "      <td>113931.57</td>\n",
       "      <td>1</td>\n",
       "    </tr>\n",
       "    <tr>\n",
       "      <th>3</th>\n",
       "      <td>4</td>\n",
       "      <td>15701354</td>\n",
       "      <td>Boni</td>\n",
       "      <td>699</td>\n",
       "      <td>France</td>\n",
       "      <td>Female</td>\n",
       "      <td>39</td>\n",
       "      <td>1</td>\n",
       "      <td>0.00</td>\n",
       "      <td>2</td>\n",
       "      <td>0</td>\n",
       "      <td>0</td>\n",
       "      <td>93826.63</td>\n",
       "      <td>0</td>\n",
       "    </tr>\n",
       "    <tr>\n",
       "      <th>4</th>\n",
       "      <td>5</td>\n",
       "      <td>15737888</td>\n",
       "      <td>Mitchell</td>\n",
       "      <td>850</td>\n",
       "      <td>Spain</td>\n",
       "      <td>Female</td>\n",
       "      <td>43</td>\n",
       "      <td>2</td>\n",
       "      <td>125510.82</td>\n",
       "      <td>1</td>\n",
       "      <td>1</td>\n",
       "      <td>1</td>\n",
       "      <td>79084.10</td>\n",
       "      <td>0</td>\n",
       "    </tr>\n",
       "  </tbody>\n",
       "</table>\n",
       "</div>"
      ],
      "text/plain": [
       "   RowNumber  CustomerId   Surname  CreditScore Geography  Gender  Age  \\\n",
       "0          1    15634602  Hargrave          619    France  Female   42   \n",
       "1          2    15647311      Hill          608     Spain  Female   41   \n",
       "2          3    15619304      Onio          502    France  Female   42   \n",
       "3          4    15701354      Boni          699    France  Female   39   \n",
       "4          5    15737888  Mitchell          850     Spain  Female   43   \n",
       "\n",
       "   Tenure    Balance  NumOfProducts  HasCrCard  IsActiveMember  \\\n",
       "0       2       0.00              1          1               1   \n",
       "1       1   83807.86              1          0               1   \n",
       "2       8  159660.80              3          1               0   \n",
       "3       1       0.00              2          0               0   \n",
       "4       2  125510.82              1          1               1   \n",
       "\n",
       "   EstimatedSalary  Exited  \n",
       "0        101348.88       1  \n",
       "1        112542.58       0  \n",
       "2        113931.57       1  \n",
       "3         93826.63       0  \n",
       "4         79084.10       0  "
      ]
     },
     "execution_count": 3,
     "metadata": {},
     "output_type": "execute_result"
    }
   ],
   "source": [
    "data.head()"
   ]
  },
  {
   "cell_type": "code",
   "execution_count": 4,
   "metadata": {},
   "outputs": [
    {
     "name": "stdout",
     "output_type": "stream",
     "text": [
      "First five elements: [[619 'France' 'Female' 42 2 0.0 1 1 1 101348.88]\n",
      " [608 'Spain' 'Female' 41 1 83807.86 1 0 1 112542.58]\n",
      " [502 'France' 'Female' 42 8 159660.8 3 1 0 113931.57]\n",
      " [699 'France' 'Female' 39 1 0.0 2 0 0 93826.63]\n",
      " [850 'Spain' 'Female' 43 2 125510.82 1 1 1 79084.1]]\n",
      "First five elements: [1 0 1 0 0]\n"
     ]
    }
   ],
   "source": [
    "x = data.iloc[:,3:13].values\n",
    "y = data.iloc[:,13].values\n",
    "print(\"First five elements:\", x[0 :5])\n",
    "print(\"First five elements:\", y[0 :5])"
   ]
  },
  {
   "cell_type": "markdown",
   "metadata": {},
   "source": [
    "Creating Dummy variables"
   ]
  },
  {
   "cell_type": "code",
   "execution_count": 5,
   "metadata": {},
   "outputs": [],
   "source": [
    "from sklearn.preprocessing import LabelEncoder , OneHotEncoder\n",
    "le1 = LabelEncoder()\n",
    "x[:,1] = le1.fit_transform(x[:,1])\n",
    "le2 = LabelEncoder()\n",
    "x[:,2] = le2.fit_transform(x[:,2])\n",
    "one = OneHotEncoder(categorical_features = [1])\n",
    "x = one.fit_transform(x).toarray()\n",
    "x= x[:,1:]\n"
   ]
  },
  {
   "cell_type": "code",
   "execution_count": 6,
   "metadata": {},
   "outputs": [
    {
     "name": "stdout",
     "output_type": "stream",
     "text": [
      "First five elements: [[0.0000000e+00 0.0000000e+00 6.1900000e+02 0.0000000e+00 4.2000000e+01\n",
      "  2.0000000e+00 0.0000000e+00 1.0000000e+00 1.0000000e+00 1.0000000e+00\n",
      "  1.0134888e+05]\n",
      " [0.0000000e+00 1.0000000e+00 6.0800000e+02 0.0000000e+00 4.1000000e+01\n",
      "  1.0000000e+00 8.3807860e+04 1.0000000e+00 0.0000000e+00 1.0000000e+00\n",
      "  1.1254258e+05]\n",
      " [0.0000000e+00 0.0000000e+00 5.0200000e+02 0.0000000e+00 4.2000000e+01\n",
      "  8.0000000e+00 1.5966080e+05 3.0000000e+00 1.0000000e+00 0.0000000e+00\n",
      "  1.1393157e+05]\n",
      " [0.0000000e+00 0.0000000e+00 6.9900000e+02 0.0000000e+00 3.9000000e+01\n",
      "  1.0000000e+00 0.0000000e+00 2.0000000e+00 0.0000000e+00 0.0000000e+00\n",
      "  9.3826630e+04]\n",
      " [0.0000000e+00 1.0000000e+00 8.5000000e+02 0.0000000e+00 4.3000000e+01\n",
      "  2.0000000e+00 1.2551082e+05 1.0000000e+00 1.0000000e+00 1.0000000e+00\n",
      "  7.9084100e+04]]\n"
     ]
    }
   ],
   "source": [
    "print(\"First five elements:\", x[0 :5])\n"
   ]
  },
  {
   "cell_type": "markdown",
   "metadata": {},
   "source": [
    "Splitting into training and Test"
   ]
  },
  {
   "cell_type": "code",
   "execution_count": 8,
   "metadata": {},
   "outputs": [],
   "source": [
    "from sklearn.model_selection import train_test_split\n"
   ]
  },
  {
   "cell_type": "code",
   "execution_count": 9,
   "metadata": {},
   "outputs": [],
   "source": [
    "X_train , X_test ,Y_train , Y_test = train_test_split(x,y,test_size = 0.2, random_state = 0)"
   ]
  },
  {
   "cell_type": "code",
   "execution_count": 10,
   "metadata": {},
   "outputs": [
    {
     "name": "stdout",
     "output_type": "stream",
     "text": [
      "First five elements: [[0.0000000e+00 1.0000000e+00 6.6700000e+02 0.0000000e+00 3.4000000e+01\n",
      "  5.0000000e+00 0.0000000e+00 2.0000000e+00 1.0000000e+00 0.0000000e+00\n",
      "  1.6383064e+05]\n",
      " [1.0000000e+00 0.0000000e+00 4.2700000e+02 1.0000000e+00 4.2000000e+01\n",
      "  1.0000000e+00 7.5681520e+04 1.0000000e+00 1.0000000e+00 1.0000000e+00\n",
      "  5.7098000e+04]\n",
      " [0.0000000e+00 0.0000000e+00 5.3500000e+02 0.0000000e+00 2.9000000e+01\n",
      "  2.0000000e+00 1.1236734e+05 1.0000000e+00 1.0000000e+00 0.0000000e+00\n",
      "  1.8563076e+05]]\n"
     ]
    }
   ],
   "source": [
    "print(\"First five elements:\", X_train[0 :3])"
   ]
  },
  {
   "cell_type": "code",
   "execution_count": 11,
   "metadata": {},
   "outputs": [
    {
     "name": "stdout",
     "output_type": "stream",
     "text": [
      "First five elements: [[1.0000000e+00 0.0000000e+00 5.9700000e+02 0.0000000e+00 3.5000000e+01\n",
      "  8.0000000e+00 1.3110104e+05 1.0000000e+00 1.0000000e+00 1.0000000e+00\n",
      "  1.9285267e+05]\n",
      " [0.0000000e+00 0.0000000e+00 5.2300000e+02 0.0000000e+00 4.0000000e+01\n",
      "  2.0000000e+00 1.0296741e+05 1.0000000e+00 1.0000000e+00 0.0000000e+00\n",
      "  1.2870210e+05]\n",
      " [0.0000000e+00 1.0000000e+00 7.0600000e+02 0.0000000e+00 4.2000000e+01\n",
      "  8.0000000e+00 9.5386820e+04 1.0000000e+00 1.0000000e+00 1.0000000e+00\n",
      "  7.5732250e+04]]\n"
     ]
    }
   ],
   "source": [
    "print(\"First five elements:\", X_test[0 :3])"
   ]
  },
  {
   "cell_type": "markdown",
   "metadata": {},
   "source": [
    "feature scaling"
   ]
  },
  {
   "cell_type": "code",
   "execution_count": 13,
   "metadata": {},
   "outputs": [],
   "source": [
    "from sklearn.preprocessing import StandardScaler\n",
    "sc = StandardScaler()\n",
    "X_train = sc.fit_transform(X_train)\n",
    "X_test  = sc.transform(X_test)"
   ]
  },
  {
   "cell_type": "code",
   "execution_count": 14,
   "metadata": {},
   "outputs": [
    {
     "name": "stdout",
     "output_type": "stream",
     "text": [
      "First five elements: [[ 1.75486502 -0.57369368 -0.55204276 -1.09168714 -0.36890377  1.04473698\n",
      "   0.8793029  -0.92159124  0.64259497  0.9687384   1.61085707]\n",
      " [-0.5698444  -0.57369368 -1.31490297 -1.09168714  0.10961719 -1.031415\n",
      "   0.42972196 -0.92159124  0.64259497 -1.03227043  0.49587037]\n",
      " [-0.5698444   1.74309049  0.57162971 -1.09168714  0.30102557  1.04473698\n",
      "   0.30858264 -0.92159124  0.64259497  0.9687384  -0.42478674]]\n"
     ]
    }
   ],
   "source": [
    "print(\"First five elements:\", X_test[0 :3])\n"
   ]
  },
  {
   "cell_type": "markdown",
   "metadata": {},
   "source": [
    " ANN importing libs"
   ]
  },
  {
   "cell_type": "code",
   "execution_count": 17,
   "metadata": {},
   "outputs": [],
   "source": [
    "import keras\n",
    "from keras.models import Sequential\n",
    "from keras.layers import Dense"
   ]
  },
  {
   "cell_type": "markdown",
   "metadata": {},
   "source": [
    "initializing the ANN\n"
   ]
  },
  {
   "cell_type": "code",
   "execution_count": 18,
   "metadata": {},
   "outputs": [],
   "source": [
    "model = Sequential()"
   ]
  },
  {
   "cell_type": "markdown",
   "metadata": {},
   "source": [
    "Adding the input and hidden layers"
   ]
  },
  {
   "cell_type": "code",
   "execution_count": 20,
   "metadata": {},
   "outputs": [
    {
     "name": "stderr",
     "output_type": "stream",
     "text": [
      "C:\\Users\\Hope\\Anaconda3\\lib\\site-packages\\ipykernel_launcher.py:1: UserWarning: Update your `Dense` call to the Keras 2 API: `Dense(activation=\"relu\", input_dim=11, units=6, kernel_initializer=\"uniform\")`\n",
      "  \"\"\"Entry point for launching an IPython kernel.\n"
     ]
    }
   ],
   "source": [
    "model.add(Dense(output_dim = 6 , init='uniform', activation ='relu', input_dim = 11))"
   ]
  },
  {
   "cell_type": "markdown",
   "metadata": {},
   "source": [
    "2nd layer"
   ]
  },
  {
   "cell_type": "code",
   "execution_count": 21,
   "metadata": {},
   "outputs": [
    {
     "name": "stderr",
     "output_type": "stream",
     "text": [
      "C:\\Users\\Hope\\Anaconda3\\lib\\site-packages\\ipykernel_launcher.py:1: UserWarning: Update your `Dense` call to the Keras 2 API: `Dense(activation=\"relu\", units=6, kernel_initializer=\"uniform\")`\n",
      "  \"\"\"Entry point for launching an IPython kernel.\n"
     ]
    }
   ],
   "source": [
    "model.add(Dense(output_dim = 6 , init='uniform', activation ='relu'))"
   ]
  },
  {
   "cell_type": "markdown",
   "metadata": {},
   "source": [
    "output layer"
   ]
  },
  {
   "cell_type": "code",
   "execution_count": 22,
   "metadata": {},
   "outputs": [
    {
     "name": "stderr",
     "output_type": "stream",
     "text": [
      "C:\\Users\\Hope\\Anaconda3\\lib\\site-packages\\ipykernel_launcher.py:1: UserWarning: Update your `Dense` call to the Keras 2 API: `Dense(activation=\"sigmoid\", units=1, kernel_initializer=\"uniform\")`\n",
      "  \"\"\"Entry point for launching an IPython kernel.\n"
     ]
    }
   ],
   "source": [
    "model.add(Dense(output_dim = 1 , init='uniform', activation ='sigmoid'))"
   ]
  },
  {
   "cell_type": "markdown",
   "metadata": {},
   "source": [
    "Compiling the ANN"
   ]
  },
  {
   "cell_type": "code",
   "execution_count": 23,
   "metadata": {},
   "outputs": [],
   "source": [
    "model.compile(optimizer = 'adam', loss = 'binary_crossentropy' , metrics = ['accuracy'] )"
   ]
  },
  {
   "cell_type": "markdown",
   "metadata": {},
   "source": [
    "fitting to training set"
   ]
  },
  {
   "cell_type": "code",
   "execution_count": 25,
   "metadata": {},
   "outputs": [
    {
     "name": "stderr",
     "output_type": "stream",
     "text": [
      "C:\\Users\\Hope\\Anaconda3\\lib\\site-packages\\ipykernel_launcher.py:1: UserWarning: The `nb_epoch` argument in `fit` has been renamed `epochs`.\n",
      "  \"\"\"Entry point for launching an IPython kernel.\n"
     ]
    },
    {
     "name": "stdout",
     "output_type": "stream",
     "text": [
      "Epoch 1/100\n",
      "8000/8000 [==============================] - 2s 291us/step - loss: 0.4869 - acc: 0.7954 0s - loss: 0.4960 - acc: 0\n",
      "Epoch 2/100\n",
      "8000/8000 [==============================] - 2s 203us/step - loss: 0.4192 - acc: 0.8157\n",
      "Epoch 3/100\n",
      "8000/8000 [==============================] - 1s 183us/step - loss: 0.4017 - acc: 0.8302\n",
      "Epoch 4/100\n",
      "8000/8000 [==============================] - 2s 199us/step - loss: 0.3877 - acc: 0.8327\n",
      "Epoch 5/100\n",
      "8000/8000 [==============================] - 1s 185us/step - loss: 0.3755 - acc: 0.8441\n",
      "Epoch 6/100\n",
      "8000/8000 [==============================] - 2s 197us/step - loss: 0.3668 - acc: 0.8504\n",
      "Epoch 7/100\n",
      "8000/8000 [==============================] - 2s 248us/step - loss: 0.3630 - acc: 0.8516\n",
      "Epoch 8/100\n",
      "8000/8000 [==============================] - 2s 309us/step - loss: 0.3588 - acc: 0.8535\n",
      "Epoch 9/100\n",
      "8000/8000 [==============================] - 2s 259us/step - loss: 0.3564 - acc: 0.8540\n",
      "Epoch 10/100\n",
      "8000/8000 [==============================] - 2s 239us/step - loss: 0.3535 - acc: 0.8571\n",
      "Epoch 11/100\n",
      "8000/8000 [==============================] - 2s 238us/step - loss: 0.3507 - acc: 0.8554\n",
      "Epoch 12/100\n",
      "8000/8000 [==============================] - 2s 196us/step - loss: 0.3492 - acc: 0.8590\n",
      "Epoch 13/100\n",
      "8000/8000 [==============================] - 2s 193us/step - loss: 0.3496 - acc: 0.8549\n",
      "Epoch 14/100\n",
      "8000/8000 [==============================] - 2s 193us/step - loss: 0.3476 - acc: 0.8566 0s - loss: 0.\n",
      "Epoch 15/100\n",
      "8000/8000 [==============================] - 2s 195us/step - loss: 0.3470 - acc: 0.8590\n",
      "Epoch 16/100\n",
      "8000/8000 [==============================] - 2s 193us/step - loss: 0.3451 - acc: 0.8580\n",
      "Epoch 17/100\n",
      "8000/8000 [==============================] - 2s 206us/step - loss: 0.3454 - acc: 0.8585\n",
      "Epoch 18/100\n",
      "8000/8000 [==============================] - 3s 344us/step - loss: 0.3447 - acc: 0.8569\n",
      "Epoch 19/100\n",
      "8000/8000 [==============================] - 2s 274us/step - loss: 0.3439 - acc: 0.8597\n",
      "Epoch 20/100\n",
      "8000/8000 [==============================] - 2s 257us/step - loss: 0.3445 - acc: 0.8586\n",
      "Epoch 21/100\n",
      "8000/8000 [==============================] - 2s 198us/step - loss: 0.3437 - acc: 0.8590\n",
      "Epoch 22/100\n",
      "8000/8000 [==============================] - 2s 194us/step - loss: 0.3428 - acc: 0.8615\n",
      "Epoch 23/100\n",
      "8000/8000 [==============================] - 2s 195us/step - loss: 0.3422 - acc: 0.8609\n",
      "Epoch 24/100\n",
      "8000/8000 [==============================] - 2s 192us/step - loss: 0.3419 - acc: 0.8600\n",
      "Epoch 25/100\n",
      "8000/8000 [==============================] - 2s 216us/step - loss: 0.3426 - acc: 0.8587\n",
      "Epoch 26/100\n",
      "8000/8000 [==============================] - 2s 272us/step - loss: 0.3404 - acc: 0.8591 0s - loss: 0.3403 - ac\n",
      "Epoch 27/100\n",
      "8000/8000 [==============================] - 2s 279us/step - loss: 0.3415 - acc: 0.8591\n",
      "Epoch 28/100\n",
      "8000/8000 [==============================] - 2s 243us/step - loss: 0.3403 - acc: 0.8614\n",
      "Epoch 29/100\n",
      "8000/8000 [==============================] - 2s 230us/step - loss: 0.3409 - acc: 0.8592\n",
      "Epoch 30/100\n",
      "8000/8000 [==============================] - 2s 230us/step - loss: 0.3410 - acc: 0.8587\n",
      "Epoch 31/100\n",
      "8000/8000 [==============================] - 2s 249us/step - loss: 0.3398 - acc: 0.8609\n",
      "Epoch 32/100\n",
      "8000/8000 [==============================] - 2s 219us/step - loss: 0.3394 - acc: 0.8601\n",
      "Epoch 33/100\n",
      "8000/8000 [==============================] - 2s 222us/step - loss: 0.3420 - acc: 0.8610\n",
      "Epoch 34/100\n",
      "8000/8000 [==============================] - 2s 266us/step - loss: 0.3399 - acc: 0.8607\n",
      "Epoch 35/100\n",
      "8000/8000 [==============================] - 2s 287us/step - loss: 0.3413 - acc: 0.8612\n",
      "Epoch 36/100\n",
      "8000/8000 [==============================] - 2s 269us/step - loss: 0.3397 - acc: 0.8609\n",
      "Epoch 37/100\n",
      "8000/8000 [==============================] - 2s 248us/step - loss: 0.3404 - acc: 0.8574\n",
      "Epoch 38/100\n",
      "8000/8000 [==============================] - 2s 224us/step - loss: 0.3389 - acc: 0.8597\n",
      "Epoch 39/100\n",
      "8000/8000 [==============================] - 2s 203us/step - loss: 0.3390 - acc: 0.8620\n",
      "Epoch 40/100\n",
      "8000/8000 [==============================] - 2s 210us/step - loss: 0.3397 - acc: 0.8609\n",
      "Epoch 41/100\n",
      "8000/8000 [==============================] - 2s 209us/step - loss: 0.3403 - acc: 0.8585\n",
      "Epoch 42/100\n",
      "8000/8000 [==============================] - 2s 252us/step - loss: 0.3394 - acc: 0.8591 1s - \n",
      "Epoch 43/100\n",
      "8000/8000 [==============================] - 2s 300us/step - loss: 0.3388 - acc: 0.8614\n",
      "Epoch 44/100\n",
      "8000/8000 [==============================] - 2s 276us/step - loss: 0.3386 - acc: 0.8589\n",
      "Epoch 45/100\n",
      "8000/8000 [==============================] - 2s 253us/step - loss: 0.3391 - acc: 0.8610 0s - loss: 0.3316 \n",
      "Epoch 46/100\n",
      "8000/8000 [==============================] - 2s 224us/step - loss: 0.3387 - acc: 0.8625\n",
      "Epoch 47/100\n",
      "8000/8000 [==============================] - 2s 223us/step - loss: 0.3386 - acc: 0.8622\n",
      "Epoch 48/100\n",
      "8000/8000 [==============================] - 2s 232us/step - loss: 0.3379 - acc: 0.8636\n",
      "Epoch 49/100\n",
      "8000/8000 [==============================] - 2s 247us/step - loss: 0.3387 - acc: 0.8622\n",
      "Epoch 50/100\n",
      "8000/8000 [==============================] - 2s 239us/step - loss: 0.3391 - acc: 0.8622\n",
      "Epoch 51/100\n",
      "8000/8000 [==============================] - 2s 200us/step - loss: 0.3369 - acc: 0.8605\n",
      "Epoch 52/100\n",
      "8000/8000 [==============================] - 2s 287us/step - loss: 0.3385 - acc: 0.8607 1 - ETA: 0s - loss: 0.3393 - ac\n",
      "Epoch 53/100\n",
      "8000/8000 [==============================] - 2s 220us/step - loss: 0.3375 - acc: 0.8616\n",
      "Epoch 54/100\n",
      "8000/8000 [==============================] - 2s 190us/step - loss: 0.3393 - acc: 0.8600\n",
      "Epoch 55/100\n",
      "8000/8000 [==============================] - 2s 203us/step - loss: 0.3380 - acc: 0.8610\n",
      "Epoch 56/100\n",
      "8000/8000 [==============================] - 2s 308us/step - loss: 0.3369 - acc: 0.8615 0s - loss: 0.3408 -\n",
      "Epoch 57/100\n",
      "8000/8000 [==============================] - 1s 179us/step - loss: 0.3384 - acc: 0.8627\n",
      "Epoch 58/100\n",
      "8000/8000 [==============================] - 2s 228us/step - loss: 0.3389 - acc: 0.8612\n",
      "Epoch 59/100\n",
      "8000/8000 [==============================] - 2s 193us/step - loss: 0.3378 - acc: 0.8622\n",
      "Epoch 60/100\n",
      "8000/8000 [==============================] - 2s 249us/step - loss: 0.3385 - acc: 0.8619\n",
      "Epoch 61/100\n",
      "8000/8000 [==============================] - 1s 175us/step - loss: 0.3375 - acc: 0.8597\n",
      "Epoch 62/100\n",
      "8000/8000 [==============================] - 2s 242us/step - loss: 0.3371 - acc: 0.8622 0s - loss: 0.3377 - acc: 0.862\n",
      "Epoch 63/100\n",
      "8000/8000 [==============================] - 2s 217us/step - loss: 0.3373 - acc: 0.8605\n",
      "Epoch 64/100\n",
      "8000/8000 [==============================] - 2s 206us/step - loss: 0.3372 - acc: 0.8626\n",
      "Epoch 65/100\n",
      "8000/8000 [==============================] - 2s 204us/step - loss: 0.3381 - acc: 0.8604\n",
      "Epoch 66/100\n",
      "8000/8000 [==============================] - 2s 203us/step - loss: 0.3372 - acc: 0.8634\n",
      "Epoch 67/100\n",
      "8000/8000 [==============================] - 2s 243us/step - loss: 0.3378 - acc: 0.8620\n",
      "Epoch 68/100\n",
      "8000/8000 [==============================] - 2s 209us/step - loss: 0.3384 - acc: 0.8601\n",
      "Epoch 69/100\n",
      "8000/8000 [==============================] - 2s 264us/step - loss: 0.3376 - acc: 0.8617\n",
      "Epoch 70/100\n",
      "8000/8000 [==============================] - 2s 300us/step - loss: 0.3377 - acc: 0.8631\n",
      "Epoch 71/100\n",
      "8000/8000 [==============================] - 2s 262us/step - loss: 0.3362 - acc: 0.8636\n",
      "Epoch 72/100\n",
      "8000/8000 [==============================] - 2s 205us/step - loss: 0.3366 - acc: 0.8622\n",
      "Epoch 73/100\n",
      "8000/8000 [==============================] - 2s 199us/step - loss: 0.3363 - acc: 0.8615\n",
      "Epoch 74/100\n",
      "8000/8000 [==============================] - 2s 195us/step - loss: 0.3370 - acc: 0.8612\n",
      "Epoch 75/100\n",
      "8000/8000 [==============================] - 2s 229us/step - loss: 0.3379 - acc: 0.8617\n",
      "Epoch 76/100\n",
      "8000/8000 [==============================] - 2s 191us/step - loss: 0.3370 - acc: 0.8604\n",
      "Epoch 77/100\n",
      "8000/8000 [==============================] - 2s 199us/step - loss: 0.3364 - acc: 0.8609\n",
      "Epoch 78/100\n",
      "8000/8000 [==============================] - 3s 405us/step - loss: 0.3368 - acc: 0.8600\n",
      "Epoch 79/100\n",
      "8000/8000 [==============================] - 3s 347us/step - loss: 0.3366 - acc: 0.8612\n",
      "Epoch 80/100\n"
     ]
    },
    {
     "name": "stdout",
     "output_type": "stream",
     "text": [
      "8000/8000 [==============================] - 2s 281us/step - loss: 0.3371 - acc: 0.8630\n",
      "Epoch 81/100\n",
      "8000/8000 [==============================] - 2s 234us/step - loss: 0.3359 - acc: 0.8620\n",
      "Epoch 82/100\n",
      "8000/8000 [==============================] - 3s 333us/step - loss: 0.3363 - acc: 0.8631\n",
      "Epoch 83/100\n",
      "8000/8000 [==============================] - 2s 270us/step - loss: 0.3368 - acc: 0.8629 0s - loss: 0.3308 - ac\n",
      "Epoch 84/100\n",
      "8000/8000 [==============================] - ETA: 0s - loss: 0.3351 - acc: 0.862 - 2s 259us/step - loss: 0.3354 - acc: 0.8619\n",
      "Epoch 85/100\n",
      "8000/8000 [==============================] - 2s 248us/step - loss: 0.3354 - acc: 0.8634 0s - loss: 0.3343 - acc: 0.\n",
      "Epoch 86/100\n",
      "8000/8000 [==============================] - 2s 254us/step - loss: 0.3378 - acc: 0.8590\n",
      "Epoch 87/100\n",
      "8000/8000 [==============================] - 2s 225us/step - loss: 0.3362 - acc: 0.8612\n",
      "Epoch 88/100\n",
      "8000/8000 [==============================] - 2s 204us/step - loss: 0.3366 - acc: 0.8635\n",
      "Epoch 89/100\n",
      "8000/8000 [==============================] - 2s 244us/step - loss: 0.3371 - acc: 0.8642\n",
      "Epoch 90/100\n",
      "8000/8000 [==============================] - 2s 208us/step - loss: 0.3367 - acc: 0.8584\n",
      "Epoch 91/100\n",
      "8000/8000 [==============================] - 2s 206us/step - loss: 0.3354 - acc: 0.8645\n",
      "Epoch 92/100\n",
      "8000/8000 [==============================] - 2s 202us/step - loss: 0.3371 - acc: 0.8604\n",
      "Epoch 93/100\n",
      "8000/8000 [==============================] - 2s 249us/step - loss: 0.3352 - acc: 0.8612\n",
      "Epoch 94/100\n",
      "8000/8000 [==============================] - 2s 262us/step - loss: 0.3369 - acc: 0.8611\n",
      "Epoch 95/100\n",
      "8000/8000 [==============================] - 2s 246us/step - loss: 0.3357 - acc: 0.8617\n",
      "Epoch 96/100\n",
      "8000/8000 [==============================] - 2s 207us/step - loss: 0.3377 - acc: 0.8597\n",
      "Epoch 97/100\n",
      "8000/8000 [==============================] - 2s 194us/step - loss: 0.3371 - acc: 0.8616\n",
      "Epoch 98/100\n",
      "8000/8000 [==============================] - 2s 233us/step - loss: 0.3362 - acc: 0.8622\n",
      "Epoch 99/100\n",
      "8000/8000 [==============================] - 2s 193us/step - loss: 0.3360 - acc: 0.8619\n",
      "Epoch 100/100\n",
      "8000/8000 [==============================] - 2s 191us/step - loss: 0.3357 - acc: 0.8605\n"
     ]
    },
    {
     "data": {
      "text/plain": [
       "<keras.callbacks.History at 0x1d3b35c2f60>"
      ]
     },
     "execution_count": 25,
     "metadata": {},
     "output_type": "execute_result"
    }
   ],
   "source": [
    "model.fit(X_train, Y_train, batch_size = 10 , nb_epoch = 100)"
   ]
  },
  {
   "cell_type": "markdown",
   "metadata": {},
   "source": [
    "Making Predictions "
   ]
  },
  {
   "cell_type": "code",
   "execution_count": 26,
   "metadata": {},
   "outputs": [],
   "source": [
    "pred = model.predict(X_test)"
   ]
  },
  {
   "cell_type": "code",
   "execution_count": 27,
   "metadata": {},
   "outputs": [],
   "source": [
    "pred = (pred>0.5)"
   ]
  },
  {
   "cell_type": "code",
   "execution_count": 31,
   "metadata": {},
   "outputs": [
    {
     "name": "stdout",
     "output_type": "stream",
     "text": [
      "First five elements: [[False]\n",
      " [False]\n",
      " [False]\n",
      " [False]\n",
      " [False]\n",
      " [ True]\n",
      " [False]\n",
      " [False]\n",
      " [False]\n",
      " [ True]\n",
      " [False]\n",
      " [False]\n",
      " [False]\n",
      " [False]\n",
      " [ True]]\n"
     ]
    }
   ],
   "source": [
    "print(\"few rows:\", pred[0 :15])"
   ]
  },
  {
   "cell_type": "markdown",
   "metadata": {},
   "source": [
    "model Evalution using confusion matrix"
   ]
  },
  {
   "cell_type": "code",
   "execution_count": 32,
   "metadata": {},
   "outputs": [],
   "source": [
    "from sklearn.metrics import confusion_matrix\n",
    "con = confusion_matrix(Y_test,pred)"
   ]
  },
  {
   "cell_type": "code",
   "execution_count": 33,
   "metadata": {},
   "outputs": [
    {
     "data": {
      "text/plain": [
       "array([[1511,   84],\n",
       "       [ 194,  211]], dtype=int64)"
      ]
     },
     "execution_count": 33,
     "metadata": {},
     "output_type": "execute_result"
    }
   ],
   "source": [
    "con"
   ]
  },
  {
   "cell_type": "code",
   "execution_count": 34,
   "metadata": {},
   "outputs": [
    {
     "data": {
      "text/plain": [
       "0.861"
      ]
     },
     "execution_count": 34,
     "metadata": {},
     "output_type": "execute_result"
    }
   ],
   "source": [
    "(1511+211)/2000"
   ]
  },
  {
   "cell_type": "markdown",
   "metadata": {},
   "source": [
    "86% of Accuracy"
   ]
  },
  {
   "cell_type": "code",
   "execution_count": null,
   "metadata": {},
   "outputs": [],
   "source": []
  }
 ],
 "metadata": {
  "kernelspec": {
   "display_name": "Python 3",
   "language": "python",
   "name": "python3"
  },
  "language_info": {
   "codemirror_mode": {
    "name": "ipython",
    "version": 3
   },
   "file_extension": ".py",
   "mimetype": "text/x-python",
   "name": "python",
   "nbconvert_exporter": "python",
   "pygments_lexer": "ipython3",
   "version": "3.6.5"
  }
 },
 "nbformat": 4,
 "nbformat_minor": 2
}
