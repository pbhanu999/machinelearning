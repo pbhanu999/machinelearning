{
 "cells": [
  {
   "cell_type": "markdown",
   "metadata": {},
   "source": [
    "# Convolutional_Neural_Networks"
   ]
  },
  {
   "cell_type": "markdown",
   "metadata": {},
   "source": [
    "Importing Keras libs"
   ]
  },
  {
   "cell_type": "code",
   "execution_count": 2,
   "metadata": {},
   "outputs": [],
   "source": [
    "from keras.models import Sequential\n",
    "from keras.layers import Convolution2D\n",
    "from keras.layers import MaxPooling2D\n",
    "from keras.layers import Flatten\n",
    "from keras.layers import Dense"
   ]
  },
  {
   "cell_type": "markdown",
   "metadata": {},
   "source": [
    "Intializing CNN"
   ]
  },
  {
   "cell_type": "code",
   "execution_count": 3,
   "metadata": {},
   "outputs": [],
   "source": [
    "model = Sequential()"
   ]
  },
  {
   "cell_type": "markdown",
   "metadata": {},
   "source": [
    "Step -1 Convolution"
   ]
  },
  {
   "cell_type": "code",
   "execution_count": 4,
   "metadata": {},
   "outputs": [
    {
     "name": "stderr",
     "output_type": "stream",
     "text": [
      "C:\\Users\\Hope\\Anaconda3\\lib\\site-packages\\ipykernel_launcher.py:1: UserWarning: Update your `Conv2D` call to the Keras 2 API: `Conv2D(32, (3, 3), input_shape=(64, 64, 3..., activation=\"relu\")`\n",
      "  \"\"\"Entry point for launching an IPython kernel.\n"
     ]
    }
   ],
   "source": [
    "model.add(Convolution2D(32,3,3,input_shape = (64,64,3) , activation='relu'))"
   ]
  },
  {
   "cell_type": "markdown",
   "metadata": {},
   "source": [
    "Step -2 Pooling"
   ]
  },
  {
   "cell_type": "code",
   "execution_count": 5,
   "metadata": {},
   "outputs": [],
   "source": [
    "model.add(MaxPooling2D(pool_size = (2,2)))"
   ]
  },
  {
   "cell_type": "markdown",
   "metadata": {},
   "source": [
    "Flattening"
   ]
  },
  {
   "cell_type": "code",
   "execution_count": 7,
   "metadata": {},
   "outputs": [],
   "source": [
    "model.add(Flatten())"
   ]
  },
  {
   "cell_type": "markdown",
   "metadata": {},
   "source": [
    "Full Connection"
   ]
  },
  {
   "cell_type": "code",
   "execution_count": 8,
   "metadata": {},
   "outputs": [
    {
     "name": "stderr",
     "output_type": "stream",
     "text": [
      "C:\\Users\\Hope\\Anaconda3\\lib\\site-packages\\ipykernel_launcher.py:1: UserWarning: Update your `Dense` call to the Keras 2 API: `Dense(activation=\"relu\", units=128)`\n",
      "  \"\"\"Entry point for launching an IPython kernel.\n",
      "C:\\Users\\Hope\\Anaconda3\\lib\\site-packages\\ipykernel_launcher.py:2: UserWarning: Update your `Dense` call to the Keras 2 API: `Dense(activation=\"sigmoid\", units=1)`\n",
      "  \n"
     ]
    }
   ],
   "source": [
    "model.add(Dense(output_dim = 128 , activation = 'relu'))\n",
    "model.add(Dense(output_dim = 1 , activation = 'sigmoid'))\n"
   ]
  },
  {
   "cell_type": "markdown",
   "metadata": {},
   "source": [
    "Compiling the CNN"
   ]
  },
  {
   "cell_type": "code",
   "execution_count": 11,
   "metadata": {},
   "outputs": [],
   "source": [
    "model.compile(optimizer = 'adam' , loss = 'binary_crossentropy' , metrics = ['accuracy'])"
   ]
  },
  {
   "cell_type": "markdown",
   "metadata": {},
   "source": [
    "Fitting CNN for training and testing data sets"
   ]
  },
  {
   "cell_type": "code",
   "execution_count": 12,
   "metadata": {},
   "outputs": [],
   "source": [
    "from keras.preprocessing.image import ImageDataGenerator"
   ]
  },
  {
   "cell_type": "code",
   "execution_count": 13,
   "metadata": {},
   "outputs": [],
   "source": [
    "train = ImageDataGenerator(rescale= 1./255,\n",
    "                          shear_range = 0.2,\n",
    "                          zoom_range = 0.2,\n",
    "                          horizontal_flip = True)"
   ]
  },
  {
   "cell_type": "code",
   "execution_count": 14,
   "metadata": {},
   "outputs": [],
   "source": [
    "test = ImageDataGenerator(rescale= 1./255)"
   ]
  },
  {
   "cell_type": "code",
   "execution_count": 15,
   "metadata": {},
   "outputs": [
    {
     "name": "stdout",
     "output_type": "stream",
     "text": [
      "Found 8000 images belonging to 2 classes.\n"
     ]
    }
   ],
   "source": [
    "trainingset = train.flow_from_directory('dataset/training_set',\n",
    "                                       target_size = (64,64),\n",
    "                                       batch_size = 32,\n",
    "                                       class_mode = 'binary')"
   ]
  },
  {
   "cell_type": "code",
   "execution_count": 16,
   "metadata": {},
   "outputs": [
    {
     "name": "stdout",
     "output_type": "stream",
     "text": [
      "Found 2000 images belonging to 2 classes.\n"
     ]
    }
   ],
   "source": [
    "testset = test.flow_from_directory('dataset/test_set',\n",
    "                                       target_size = (64,64),\n",
    "                                       batch_size = 32,\n",
    "                                       class_mode = 'binary')"
   ]
  },
  {
   "cell_type": "code",
   "execution_count": 20,
   "metadata": {},
   "outputs": [
    {
     "name": "stderr",
     "output_type": "stream",
     "text": [
      "C:\\Users\\Hope\\Anaconda3\\lib\\site-packages\\ipykernel_launcher.py:5: UserWarning: The semantics of the Keras 2 argument `steps_per_epoch` is not the same as the Keras 1 argument `samples_per_epoch`. `steps_per_epoch` is the number of batches to draw from the generator at each epoch. Basically steps_per_epoch = samples_per_epoch/batch_size. Similarly `nb_val_samples`->`validation_steps` and `val_samples`->`steps` arguments have changed. Update your method calls accordingly.\n",
      "  \"\"\"\n",
      "C:\\Users\\Hope\\Anaconda3\\lib\\site-packages\\ipykernel_launcher.py:5: UserWarning: Update your `fit_generator` call to the Keras 2 API: `fit_generator(<keras_pre..., validation_data=<keras_pre..., steps_per_epoch=250, epochs=25, validation_steps=2000)`\n",
      "  \"\"\"\n"
     ]
    },
    {
     "name": "stdout",
     "output_type": "stream",
     "text": [
      "Epoch 1/25\n",
      "250/250 [==============================] - 622s 2s/step - loss: 0.6810 - acc: 0.6188 - val_loss: 0.6046 - val_acc: 0.6690\n",
      "Epoch 2/25\n",
      "250/250 [==============================] - 541s 2s/step - loss: 0.5941 - acc: 0.6827 - val_loss: 0.5621 - val_acc: 0.7186\n",
      "Epoch 3/25\n",
      "250/250 [==============================] - 647s 3s/step - loss: 0.5590 - acc: 0.7092 - val_loss: 0.5641 - val_acc: 0.7151\n",
      "Epoch 4/25\n",
      "250/250 [==============================] - 709s 3s/step - loss: 0.5421 - acc: 0.7183 - val_loss: 0.5595 - val_acc: 0.7185\n",
      "Epoch 5/25\n",
      "250/250 [==============================] - 792s 3s/step - loss: 0.5239 - acc: 0.7394 - val_loss: 0.5255 - val_acc: 0.7359\n",
      "Epoch 6/25\n",
      "250/250 [==============================] - 639s 3s/step - loss: 0.5071 - acc: 0.7502 - val_loss: 0.5386 - val_acc: 0.7343\n",
      "Epoch 7/25\n",
      "250/250 [==============================] - 577s 2s/step - loss: 0.4950 - acc: 0.7564 - val_loss: 0.5239 - val_acc: 0.7368\n",
      "Epoch 8/25\n",
      "250/250 [==============================] - 553s 2s/step - loss: 0.4909 - acc: 0.7584 - val_loss: 0.5354 - val_acc: 0.7550\n",
      "Epoch 9/25\n",
      "250/250 [==============================] - 552s 2s/step - loss: 0.4749 - acc: 0.7692 - val_loss: 0.5088 - val_acc: 0.7611\n",
      "Epoch 10/25\n",
      "250/250 [==============================] - 586s 2s/step - loss: 0.4723 - acc: 0.7715 - val_loss: 0.5051 - val_acc: 0.7610\n",
      "Epoch 11/25\n",
      "250/250 [==============================] - 552s 2s/step - loss: 0.4527 - acc: 0.7845 - val_loss: 0.5599 - val_acc: 0.7446\n",
      "Epoch 12/25\n",
      "250/250 [==============================] - 583s 2s/step - loss: 0.4399 - acc: 0.7874 - val_loss: 0.6475 - val_acc: 0.6905\n",
      "Epoch 13/25\n",
      "250/250 [==============================] - 567s 2s/step - loss: 0.4425 - acc: 0.7894 - val_loss: 0.5008 - val_acc: 0.7731\n",
      "Epoch 14/25\n",
      "250/250 [==============================] - 600s 2s/step - loss: 0.4219 - acc: 0.8001 - val_loss: 0.5317 - val_acc: 0.7695\n",
      "Epoch 15/25\n",
      "250/250 [==============================] - 675s 3s/step - loss: 0.3953 - acc: 0.8166 - val_loss: 0.5078 - val_acc: 0.7761\n",
      "Epoch 16/25\n",
      "250/250 [==============================] - 551s 2s/step - loss: 0.3885 - acc: 0.8175 - val_loss: 0.5355 - val_acc: 0.7600\n",
      "Epoch 17/25\n",
      "250/250 [==============================] - 551s 2s/step - loss: 0.3740 - acc: 0.8309 - val_loss: 0.5833 - val_acc: 0.7539\n",
      "Epoch 18/25\n",
      "250/250 [==============================] - 551s 2s/step - loss: 0.3673 - acc: 0.8317 - val_loss: 0.5244 - val_acc: 0.7734\n",
      "Epoch 19/25\n",
      "250/250 [==============================] - 655s 3s/step - loss: 0.3599 - acc: 0.8373 - val_loss: 0.5402 - val_acc: 0.7704\n",
      "Epoch 20/25\n",
      "250/250 [==============================] - 669s 3s/step - loss: 0.3504 - acc: 0.8405 - val_loss: 0.5903 - val_acc: 0.7730\n",
      "Epoch 21/25\n",
      "250/250 [==============================] - 672s 3s/step - loss: 0.3419 - acc: 0.8470 - val_loss: 0.6011 - val_acc: 0.7620\n",
      "Epoch 22/25\n",
      "250/250 [==============================] - 613s 2s/step - loss: 0.3209 - acc: 0.8584 - val_loss: 0.6287 - val_acc: 0.7638\n",
      "Epoch 23/25\n",
      "250/250 [==============================] - 574s 2s/step - loss: 0.3078 - acc: 0.8682 - val_loss: 0.5811 - val_acc: 0.7738\n",
      "Epoch 24/25\n",
      "250/250 [==============================] - 539s 2s/step - loss: 0.3032 - acc: 0.8674 - val_loss: 0.6283 - val_acc: 0.7620\n",
      "Epoch 25/25\n",
      "250/250 [==============================] - 500s 2s/step - loss: 0.2818 - acc: 0.8767 - val_loss: 0.7010 - val_acc: 0.7553\n"
     ]
    },
    {
     "data": {
      "text/plain": [
       "<keras.callbacks.History at 0x270af80da58>"
      ]
     },
     "execution_count": 20,
     "metadata": {},
     "output_type": "execute_result"
    }
   ],
   "source": [
    "model.fit_generator(trainingset,\n",
    "                    samples_per_epoch = 8000,\n",
    "                   nb_epoch = 25,\n",
    "                   validation_data = testset,\n",
    "                   nb_val_samples = 2000)"
   ]
  },
  {
   "cell_type": "markdown",
   "metadata": {},
   "source": [
    "Accuracy between training and test sets are of 87% and 75%"
   ]
  },
  {
   "cell_type": "markdown",
   "metadata": {},
   "source": [
    "Making  predictions"
   ]
  },
  {
   "cell_type": "code",
   "execution_count": 21,
   "metadata": {},
   "outputs": [],
   "source": [
    "import numpy as np\n",
    "from keras.preprocessing import image"
   ]
  },
  {
   "cell_type": "code",
   "execution_count": 23,
   "metadata": {},
   "outputs": [],
   "source": [
    "test_image = image.load_img('dataset/single_prediction/cat_or_dog_1.jpg' , target_size = (64,64))\n",
    "test_image = image.img_to_array(test_image)\n",
    "test_image  = np.expand_dims(test_image , axis = 0)\n",
    "result = model.predict(test_image)\n",
    "trainingset.class_indices\n",
    "if result[0][0] == 1:\n",
    "     prediction = 'dog'\n",
    "else:\n",
    "     prediction = 'cat'"
   ]
  },
  {
   "cell_type": "code",
   "execution_count": 24,
   "metadata": {},
   "outputs": [
    {
     "data": {
      "text/plain": [
       "array([[1.]], dtype=float32)"
      ]
     },
     "execution_count": 24,
     "metadata": {},
     "output_type": "execute_result"
    }
   ],
   "source": [
    "result"
   ]
  },
  {
   "cell_type": "code",
   "execution_count": 25,
   "metadata": {},
   "outputs": [
    {
     "data": {
      "text/plain": [
       "'dog'"
      ]
     },
     "execution_count": 25,
     "metadata": {},
     "output_type": "execute_result"
    }
   ],
   "source": [
    "prediction"
   ]
  },
  {
   "cell_type": "markdown",
   "metadata": {},
   "source": [
    " Dog is Accurate"
   ]
  },
  {
   "cell_type": "code",
   "execution_count": null,
   "metadata": {},
   "outputs": [],
   "source": []
  }
 ],
 "metadata": {
  "kernelspec": {
   "display_name": "Python 3",
   "language": "python",
   "name": "python3"
  },
  "language_info": {
   "codemirror_mode": {
    "name": "ipython",
    "version": 3
   },
   "file_extension": ".py",
   "mimetype": "text/x-python",
   "name": "python",
   "nbconvert_exporter": "python",
   "pygments_lexer": "ipython3",
   "version": "3.6.5"
  }
 },
 "nbformat": 4,
 "nbformat_minor": 2
}
